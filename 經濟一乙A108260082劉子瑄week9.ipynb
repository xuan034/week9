{
  "nbformat": 4,
  "nbformat_minor": 0,
  "metadata": {
    "colab": {
      "name": "Untitled4.ipynb",
      "provenance": []
    },
    "kernelspec": {
      "name": "python3",
      "display_name": "Python 3"
    }
  },
  "cells": [
    {
      "cell_type": "code",
      "metadata": {
        "id": "IMGKLiXfv3wH",
        "colab_type": "code",
        "colab": {
          "base_uri": "https://localhost:8080/",
          "height": 50
        },
        "outputId": "bbb58e11-205a-4606-98a0-571128270c81"
      },
      "source": [
        "score = int(input(\"請輸入一個成績?\"))\n",
        "if score >= 60:        \n",
        "  print(\"GOOD!\")\n",
        "  "
      ],
      "execution_count": 1,
      "outputs": [
        {
          "output_type": "stream",
          "text": [
            "請輸入一個成績?60\n",
            "GOOD!\n"
          ],
          "name": "stdout"
        }
      ]
    },
    {
      "cell_type": "code",
      "metadata": {
        "id": "Vl_eCWHvv56A",
        "colab_type": "code",
        "colab": {
          "base_uri": "https://localhost:8080/",
          "height": 50
        },
        "outputId": "62a8b33b-9510-491c-fd4b-1b8d22356c16"
      },
      "source": [
        "score = int(input(\"請輸入一個成績?\"))\n",
        "if score >= 60:        \n",
        "  print(\"GOOD!\")\n",
        "else:    \n",
        "  print(\"bad\")"
      ],
      "execution_count": 2,
      "outputs": [
        {
          "output_type": "stream",
          "text": [
            "請輸入一個成績?59\n",
            "bad\n"
          ],
          "name": "stdout"
        }
      ]
    },
    {
      "cell_type": "code",
      "metadata": {
        "id": "BAEXztdMwBT-",
        "colab_type": "code",
        "colab": {
          "base_uri": "https://localhost:8080/",
          "height": 50
        },
        "outputId": "b011aeb5-d9fe-4890-b408-53ce4c106aa5"
      },
      "source": [
        "score = int(input(\"請輸入一個成績?\"))\n",
        "if score >=80:   \n",
        "  print(\"very good\")\n",
        "elif score >= 60:    \n",
        "  print(\"good\") \n",
        "else:\n",
        "  print(\"加油\")\n"
      ],
      "execution_count": 3,
      "outputs": [
        {
          "output_type": "stream",
          "text": [
            "請輸入一個成績?82\n",
            "very good\n"
          ],
          "name": "stdout"
        }
      ]
    },
    {
      "cell_type": "code",
      "metadata": {
        "id": "CnP2twNkwGvY",
        "colab_type": "code",
        "colab": {
          "base_uri": "https://localhost:8080/",
          "height": 67
        },
        "outputId": "c9b06904-7a58-4251-ae7f-32d66b2d8695"
      },
      "source": [
        "\n",
        "x = float(input(\"請輸入一個X座標?\"))\n",
        "y = float(input(\"請輸入一個Y座標?\"))\n",
        "\n",
        "if (x > 0):    \n",
        "  if(y> 0):\n",
        "    print(\"該點在第一象限\")\n",
        "  else:\n",
        "    print(\"該點在第四象限\")\n",
        "else:\n",
        "  if (y > 0):    \n",
        "    print(\"該點在第二象限\")\n",
        "  else:\n",
        "    print(\"該點在第三象限\")\n",
        "    "
      ],
      "execution_count": 4,
      "outputs": [
        {
          "output_type": "stream",
          "text": [
            "請輸入一個X座標?-1\n",
            "請輸入一個Y座標?5\n",
            "該點在第二象限\n"
          ],
          "name": "stdout"
        }
      ]
    },
    {
      "cell_type": "code",
      "metadata": {
        "id": "mVdQhejmwtSQ",
        "colab_type": "code",
        "colab": {
          "base_uri": "https://localhost:8080/",
          "height": 50
        },
        "outputId": "470f366f-a773-4a66-9df1-9bc6ca9d9497"
      },
      "source": [
        "cost = int(input(\"請輸入購買金額?\"))\n",
        "if cost >= 2000:    \n",
        "  print(cost * 0.9)\n",
        "else:\n",
        "  print(cost)\n",
        "\n",
        "  "
      ],
      "execution_count": 5,
      "outputs": [
        {
          "output_type": "stream",
          "text": [
            "請輸入購買金額?2001\n",
            "1800.9\n"
          ],
          "name": "stdout"
        }
      ]
    },
    {
      "cell_type": "code",
      "metadata": {
        "id": "rgjNJ1nQw1CS",
        "colab_type": "code",
        "colab": {
          "base_uri": "https://localhost:8080/",
          "height": 50
        },
        "outputId": "50caab45-3ff4-4f96-c79e-465586c42eda"
      },
      "source": [
        "\n",
        "num = int(input(\"請輸入一個整數?\"))\n",
        "if num % 2 == 0:    \n",
        "  print(num, \"為偶數\")\n",
        "else:\n",
        "  print(num, \"為奇數\")\n",
        "  "
      ],
      "execution_count": 6,
      "outputs": [
        {
          "output_type": "stream",
          "text": [
            "請輸入一個整數?5\n",
            "5 為奇數\n"
          ],
          "name": "stdout"
        }
      ]
    },
    {
      "cell_type": "code",
      "metadata": {
        "id": "E7_SFC0HxC39",
        "colab_type": "code",
        "colab": {
          "base_uri": "https://localhost:8080/",
          "height": 84
        },
        "outputId": "2937a015-0461-421d-b4bc-39aecbde3e03"
      },
      "source": [
        "\n",
        "a = int(input(\"請輸入三角形a邊長的長度\"))\n",
        "b = int(input(\"請輸入三角形b邊長的長度\"))\n",
        "c = int(input(\"請輸入三角形c邊長的長度\"))\n",
        "\n",
        "if (a<b+c)and(b<a+c)and(c<a+b):    \n",
        "  print(\"可構成三角形\")\n",
        "else:\n",
        "  print(\"無法構成三角形\")\n",
        "  "
      ],
      "execution_count": 8,
      "outputs": [
        {
          "output_type": "stream",
          "text": [
            "請輸入三角形a邊長的長度11\n",
            "請輸入三角形b邊長的長度5\n",
            "請輸入三角形c邊長的長度7\n",
            "可構成三角形\n"
          ],
          "name": "stdout"
        }
      ]
    },
    {
      "cell_type": "code",
      "metadata": {
        "id": "ZAosQ1yLxH6w",
        "colab_type": "code",
        "colab": {
          "base_uri": "https://localhost:8080/",
          "height": 84
        },
        "outputId": "4a83aa99-fd67-45e1-9818-1bd138681785"
      },
      "source": [
        "\n",
        "w= float(input(\"請輸入體重(KG)\"))\n",
        "h = float(input(\"請輸入身高(M)\"))\n",
        "bmi = w/(h*h)\n",
        "print(\"BMI為\",bmi)\n",
        "\n",
        "if bmi < 18:    \n",
        "  print(\"體重過輕\")\n",
        "elif bmi < 24:    \n",
        "  print('體重正常')\n",
        "elif bmi < 27:    \n",
        "  print('體重過重')\n",
        "else:    \n",
        "  print('體重肥胖')"
      ],
      "execution_count": 9,
      "outputs": [
        {
          "output_type": "stream",
          "text": [
            "請輸入體重(KG)55\n",
            "請輸入身高(M)1.66\n",
            "BMI為 19.959355494266223\n",
            "體重正常\n"
          ],
          "name": "stdout"
        }
      ]
    },
    {
      "cell_type": "code",
      "metadata": {
        "id": "3pNylcxuxPPL",
        "colab_type": "code",
        "colab": {}
      },
      "source": [
        ""
      ],
      "execution_count": 0,
      "outputs": []
    }
  ]
}